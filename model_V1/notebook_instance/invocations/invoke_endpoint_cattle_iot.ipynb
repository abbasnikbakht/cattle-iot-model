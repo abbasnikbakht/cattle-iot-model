{
 "cells": [
  {
   "cell_type": "code",
   "execution_count": 21,
   "metadata": {},
   "outputs": [],
   "source": [
    "import json\n",
    "\n",
    "import boto3\n",
    "\n",
    "sagemaker = boto3.client('sagemaker-runtime')\n",
    "input_json = {\"tBodyAcc-mean()-X\":{\"1\":0.28602671},\"tBodyAcc-mean()-Y\":{\"1\":-0.013163359},\"tBodyAcc-mean()-Z\":{\"1\":-0.11908252}} \n",
    "input_json = json.dumps(input_json)\n"
   ]
  },
  {
   "cell_type": "code",
   "execution_count": 22,
   "metadata": {},
   "outputs": [],
   "source": [
    "def predict():\n",
    "    # Get the json from the request\n",
    "    # Send everything to the Sagemaker endpoint\n",
    "    res = sagemaker.invoke_endpoint(\n",
    "        EndpointName='cattle-iot-endpoint',\n",
    "        Body=input_json,\n",
    "        ContentType='application/json',\n",
    "        Accept='Accept'\n",
    "    )\n",
    "    return res['Body'].read()"
   ]
  },
  {
   "cell_type": "code",
   "execution_count": 23,
   "metadata": {},
   "outputs": [
    {
     "name": "stdout",
     "output_type": "stream",
     "text": [
      "b'[\"STANDING\"]\\n'\n"
     ]
    }
   ],
   "source": [
    "data = predict()\n",
    "print(data)"
   ]
  },
  {
   "cell_type": "code",
   "execution_count": null,
   "metadata": {},
   "outputs": [],
   "source": []
  }
 ],
 "metadata": {
  "kernelspec": {
   "display_name": "conda_python3",
   "language": "python",
   "name": "conda_python3"
  },
  "language_info": {
   "codemirror_mode": {
    "name": "ipython",
    "version": 3
   },
   "file_extension": ".py",
   "mimetype": "text/x-python",
   "name": "python",
   "nbconvert_exporter": "python",
   "pygments_lexer": "ipython3",
   "version": "3.6.5"
  }
 },
 "nbformat": 4,
 "nbformat_minor": 4
}
